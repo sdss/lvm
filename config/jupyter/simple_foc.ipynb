{
 "cells": [
  {
   "cell_type": "code",
   "execution_count": 3,
   "id": "bd45e98f-af70-45ff-8c80-d40f2d8d9461",
   "metadata": {},
   "outputs": [
    {
     "name": "stdout",
     "output_type": "stream",
     "text": [
      "{'Reachable': True, 'AtHome': True, 'Moving': False, 'PositionSwitchStatus': 254, 'Position': 0.0, 'DeviceEncoder': {'Position': 0.0, 'Unit': 'STEPS'}, 'Velocity': 0.0, 'AtLimit': False}\n",
      "[True, 0.0]\n",
      "\n",
      "Thanks for the fish\n"
     ]
    }
   ],
   "source": [
    "from cluplus.proxy import Proxy, flatten, unpack\n",
    "\n",
    "try:\n",
    "    foc_skye = await Proxy(\"lvm.skye.foc\").start()\n",
    "    foc_sci = await Proxy(\"lvm.sci.foc\").start()\n",
    "    \n",
    "    print(await foc_skye.status())\n",
    "    print((await foc_sci.status()).flatten().unpack('Reachable', 'DeviceEncoder.Position'))\n",
    "\n",
    "except Exception as ex:\n",
    "    print(f\"ERROR: {ex}\")\n",
    "\n",
    "print(\"\\nThanks for the fish\")"
   ]
  },
  {
   "cell_type": "code",
   "execution_count": 1,
   "id": "57212dea-7a93-4c63-9a96-a59886f418a8",
   "metadata": {},
   "outputs": [
    {
     "name": "stdout",
     "output_type": "stream",
     "text": [
      "{'Reachable': True, 'AtHome': True, 'Moving': False, 'PositionSwitchStatus': 254, 'Position': 0.0, 'DeviceEncoder.Position': 0.0, 'DeviceEncoder.Unit': 'STEPS', 'Velocity': 0.0, 'AtLimit': False}\n"
     ]
    }
   ],
   "source": [
    "from cluplus.proxy import Proxy, flatten, unpack\n",
    "\n",
    "foc_skyw = await Proxy(\"lvm.skyw.foc\").start()\n",
    "\n",
    "print((await foc_skyw.status()).flatten())"
   ]
  },
  {
   "cell_type": "code",
   "execution_count": 8,
   "id": "440e2670-104c-4f92-8764-eb59512d094e",
   "metadata": {},
   "outputs": [
    {
     "name": "stdout",
     "output_type": "stream",
     "text": [
      "{'help': ['Usage: lvm.skyw.km.skyw.km-command-parser [OPTIONS] COMMAND [ARGS]...', '', 'Options:', '  --help  Show this message and exit.', '', 'Commands:', '  __commands                     Returns all commands.', '  getAbsoluteEncoderPosition     Returns external absolute encoder...', '  getCurrentTime                 Returns internal time counter', '  getDeviceEncoderPosition       Returns internal motorcontroller...', '  getIncrementalEncoderPosition  Returns external incremental encoder...', '  getNamedPosition               Returns named position', '  getPosition                    Returns internal motorcontroller...', '  getPositionSwitchStatus        Returns position switches status', '  getVelocity                    Returns current set velocity', '  get_schema                     Returns the schema of the actor as a...', '  help                           Shows the help.', '  isAtHome                       Check if at home position', '  isAtLimit', '  isMoving                       Check if moving', '  isReachable                    Check hardware reachability', '  keyword                        Prints human-readable information about...', '  moveAbsolute                   Move to absolute position with unit', '  moveRelative                   Move relative with unit', '  moveToHome                     Move to home position', '  moveToLimit                    Move to positive/negative limit', '  moveToNamedPosition            Move to named position', '  ping                           Pings the actor.', '  scanAllReferenceSwitches       Scan all reference switches', '  setPosition                    Sets internal motorcontroller position...', '  setVelocity                    Set velocity', '  slewStart                      Start slew', '  slewStop                       Stop slew', '  status                         Check status', '  version                        Reports the version.']}\n"
     ]
    }
   ],
   "source": [
    "km_skyw = await Proxy(\"lvm.skyw.km\").start()\n",
    "\n",
    "print(await km_skyw.help())"
   ]
  },
  {
   "cell_type": "code",
   "execution_count": null,
   "id": "56037111-6cd7-40aa-8072-0994dabdf4c6",
   "metadata": {},
   "outputs": [],
   "source": []
  }
 ],
 "metadata": {
  "kernelspec": {
   "display_name": "Python 3 (ipykernel)",
   "language": "python",
   "name": "python3"
  },
  "language_info": {
   "codemirror_mode": {
    "name": "ipython",
    "version": 3
   },
   "file_extension": ".py",
   "mimetype": "text/x-python",
   "name": "python",
   "nbconvert_exporter": "python",
   "pygments_lexer": "ipython3",
   "version": "3.10.4"
  }
 },
 "nbformat": 4,
 "nbformat_minor": 5
}
