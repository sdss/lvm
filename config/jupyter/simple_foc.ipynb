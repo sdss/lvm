{
 "cells": [
  {
   "cell_type": "code",
   "execution_count": 3,
   "id": "bd45e98f-af70-45ff-8c80-d40f2d8d9461",
   "metadata": {},
   "outputs": [
    {
     "name": "stdout",
     "output_type": "stream",
     "text": [
      "{'Reachable': True, 'AtHome': True, 'Moving': False, 'PositionSwitchStatus': 254, 'Position': 0.0, 'DeviceEncoder': {'Position': 0.0, 'Unit': 'STEPS'}, 'Velocity': 0.0, 'AtLimit': False}\n",
      "[True, 0.0]\n",
      "\n",
      "Thanks for the fish\n"
     ]
    }
   ],
   "source": [
    "from cluplus.proxy import Proxy, flatten, unpack\n",
    "\n",
    "try:\n",
    "    foc_skye = await Proxy(\"lvm.skye.foc\").start()\n",
    "    foc_sci = await Proxy(\"lvm.sci.foc\").start()\n",
    "    \n",
    "    print(await foc_skye.status())\n",
    "    print((await foc_sci.status()).flatten().unpack('Reachable', 'DeviceEncoder.Position'))\n",
    "\n",
    "except Exception as ex:\n",
    "    print(f\"ERROR: {ex}\")\n",
    "\n",
    "print(\"\\nThanks for the fish\")"
   ]
  },
  {
   "cell_type": "code",
   "execution_count": 1,
   "id": "57212dea-7a93-4c63-9a96-a59886f418a8",
   "metadata": {},
   "outputs": [
    {
     "name": "stdout",
     "output_type": "stream",
     "text": [
      "{'Reachable': True, 'AtHome': True, 'Moving': False, 'PositionSwitchStatus': 254, 'Position': 0.0, 'DeviceEncoder.Position': 0.0, 'DeviceEncoder.Unit': 'STEPS', 'Velocity': 0.0, 'AtLimit': False}\n"
     ]
    }
   ],
   "source": [
    "from cluplus.proxy import Proxy, flatten, unpack\n",
    "\n",
    "foc_skyw = await Proxy(\"lvm.skyw.foc\").start()\n",
    "\n",
    "print((await foc_skyw.status()).flatten())"
   ]
  }
 ],
 "metadata": {
  "kernelspec": {
   "display_name": "Python 3 (ipykernel)",
   "language": "python",
   "name": "python3"
  },
  "language_info": {
   "codemirror_mode": {
    "name": "ipython",
    "version": 3
   },
   "file_extension": ".py",
   "mimetype": "text/x-python",
   "name": "python",
   "nbconvert_exporter": "python",
   "pygments_lexer": "ipython3",
   "version": "3.10.4"
  }
 },
 "nbformat": 4,
 "nbformat_minor": 5
}
