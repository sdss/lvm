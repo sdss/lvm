{
 "cells": [
  {
   "cell_type": "code",
   "execution_count": null,
   "id": "9643d008-245b-4ffb-90b2-757fe3b8082b",
   "metadata": {},
   "outputs": [],
   "source": [
    "from cluplus.proxy import Proxy\n",
    "\n",
    "foc_skye = await Proxy(\"lvm.skye.foc\").start()\n",
    "    \n",
    "await foc_skye.status()"
   ]
  },
  {
   "cell_type": "code",
   "execution_count": 9,
   "id": "57212dea-7a93-4c63-9a96-a59886f418a8",
   "metadata": {},
   "outputs": [
    {
     "data": {
      "text/plain": [
       "{'Reachable': True,\n",
       " 'AtHome': False,\n",
       " 'Moving': False,\n",
       " 'PositionSwitchStatus': 254,\n",
       " 'Position': 30000.0,\n",
       " 'DeviceEncoder': {'Position': 30000.0, 'Unit': 'STEPS'},\n",
       " 'Velocity': 0.0,\n",
       " 'AtLimit': False}"
      ]
     },
     "execution_count": 9,
     "metadata": {},
     "output_type": "execute_result"
    }
   ],
   "source": [
    "from lvmtipo.actors import lvm\n",
    "import json\n",
    "\n",
    "await lvm.spec.foc.start()\n",
    "await lvm.spec.foc.status()\n"
   ]
  },
  {
   "cell_type": "code",
   "execution_count": 10,
   "id": "4cc21b3f-8589-4ba3-8f4e-567c31bba72f",
   "metadata": {},
   "outputs": [
    {
     "data": {
      "text/plain": [
       "{'Reachable': True,\n",
       " 'AtHome': False,\n",
       " 'Moving': False,\n",
       " 'PositionSwitchStatus': 254,\n",
       " 'Position': 40000.0,\n",
       " 'DeviceEncoder': {'Position': 40000.0, 'Unit': 'STEPS'},\n",
       " 'Velocity': 0.0,\n",
       " 'AtLimit': False}"
      ]
     },
     "execution_count": 10,
     "metadata": {},
     "output_type": "execute_result"
    }
   ],
   "source": [
    "await lvm.spec.foc.moveRelative(100,\"UM\")"
   ]
  },
  {
   "cell_type": "code",
   "execution_count": 4,
   "id": "7578da99-4827-4d93-af9e-b6fd1977f084",
   "metadata": {},
   "outputs": [
    {
     "name": "stdout",
     "output_type": "stream",
     "text": [
      "reachable: True, position: 10000.0\n"
     ]
    }
   ],
   "source": [
    "reachable, position = (await lvm.spec.foc.status()).flatten().unpack('Reachable', 'DeviceEncoder.Position')\n",
    "\n",
    "print(f\"reachable: {reachable}, position: {position}\")\n"
   ]
  },
  {
   "cell_type": "code",
   "execution_count": 11,
   "id": "56037111-6cd7-40aa-8072-0994dabdf4c6",
   "metadata": {},
   "outputs": [
    {
     "name": "stderr",
     "output_type": "stream",
     "text": [
      "\u001b[1;33m[WARNING]: \u001b[0mactor lvm.spec.ag currently not reachable.\n",
      "\u001b[1;33m[WARNING]: \u001b[0mactor lvmieb currently not reachable.\n",
      "\u001b[1;33m[WARNING]: \u001b[0mactor lvmscp currently not reachable.\n"
     ]
    },
    {
     "data": {
      "text/plain": [
       "[{'Reachable': True,\n",
       "  'AtHome': False,\n",
       "  'Moving': False,\n",
       "  'PositionSwitchStatus': 254,\n",
       "  'Position': -100.0,\n",
       "  'DeviceEncoder': {'Position': -10000.0, 'Unit': 'STEPS'},\n",
       "  'Velocity': 0.0,\n",
       "  'AtLimit': False},\n",
       " {'Reachable': True,\n",
       "  'AtHome': True,\n",
       "  'Moving': False,\n",
       "  'PositionSwitchStatus': 254,\n",
       "  'Position': 0.0,\n",
       "  'DeviceEncoder': {'Position': 0.0, 'Unit': 'STEPS'},\n",
       "  'Velocity': 0.0,\n",
       "  'AtLimit': False,\n",
       "  'CurrentTime': 1657002704831099.0},\n",
       " {'state': 'IDLE'},\n",
       " {'east': {'temperature': 25,\n",
       "   'cooler': nan,\n",
       "   'binning': [4, 4],\n",
       "   'area': [1, 1600, 1, 1100]},\n",
       "  'west': {'temperature': 25,\n",
       "   'cooler': nan,\n",
       "   'binning': [4, 4],\n",
       "   'area': [1, 1600, 1, 1100]}},\n",
       " {'is_tracking': False,\n",
       "  'is_connected': False,\n",
       "  'is_slewing': False,\n",
       "  'is_enabled': False,\n",
       "  'ra_j2000_hours': 0.0,\n",
       "  'dec_j2000_degs': 0.0,\n",
       "  'ra_apparent_hours': 0.0,\n",
       "  'dec_apparent_degs': 0.0,\n",
       "  'altitude_degs': 0.0,\n",
       "  'azimuth_degs': 0.0,\n",
       "  'field_angle_rate_at_target_degs_per_sec': 0.0,\n",
       "  'field_angle_here_degs': 0.0,\n",
       "  'field_angle_at_target_degs': 0.0,\n",
       "  'axis0': {'dist_to_target_arcsec': 0.0,\n",
       "   'is_enabled': False,\n",
       "   'position_degs': 0.0,\n",
       "   'rms_error_arcsec': 0.0,\n",
       "   'servo_error_arcsec': 0.0},\n",
       "  'axis1': {'dist_to_target_arcsec': 0.0,\n",
       "   'is_enabled': False,\n",
       "   'position_degs': 0.0,\n",
       "   'rms_error_arcsec': 0.0,\n",
       "   'servo_error_arcsec': 0.0},\n",
       "  'model': {'filename': '',\n",
       "   'num_points_enabled': 0,\n",
       "   'num_points_total': 0,\n",
       "   'rms_error_arcsec': 0.0},\n",
       "  'geometry': 0},\n",
       " {'Reachable': True,\n",
       "  'AtHome': True,\n",
       "  'Moving': False,\n",
       "  'PositionSwitchStatus': 254,\n",
       "  'Position': 0.0,\n",
       "  'DeviceEncoder': {'Position': 0.0, 'Unit': 'STEPS'},\n",
       "  'Velocity': 0.0,\n",
       "  'AtLimit': False},\n",
       " {'Reachable': True,\n",
       "  'AtHome': True,\n",
       "  'Moving': False,\n",
       "  'PositionSwitchStatus': 254,\n",
       "  'Position': 0.0,\n",
       "  'DeviceEncoder': {'Position': 0.0, 'Unit': 'STEPS'},\n",
       "  'Velocity': 0.0,\n",
       "  'AtLimit': False,\n",
       "  'CurrentTime': 1657002704777434.0},\n",
       " {'state': 'IDLE'},\n",
       " {'east': {'temperature': 25,\n",
       "   'cooler': nan,\n",
       "   'binning': [4, 4],\n",
       "   'area': [1, 1600, 1, 1100]},\n",
       "  'west': {'temperature': 25,\n",
       "   'cooler': nan,\n",
       "   'binning': [4, 4],\n",
       "   'area': [1, 1600, 1, 1100]}},\n",
       " {'is_tracking': False,\n",
       "  'is_connected': False,\n",
       "  'is_slewing': False,\n",
       "  'is_enabled': False,\n",
       "  'ra_j2000_hours': 0.0,\n",
       "  'dec_j2000_degs': 0.0,\n",
       "  'ra_apparent_hours': 0.0,\n",
       "  'dec_apparent_degs': 0.0,\n",
       "  'altitude_degs': 0.0,\n",
       "  'azimuth_degs': 0.0,\n",
       "  'field_angle_rate_at_target_degs_per_sec': 0.0,\n",
       "  'field_angle_here_degs': 0.0,\n",
       "  'field_angle_at_target_degs': 0.0,\n",
       "  'axis0': {'dist_to_target_arcsec': 0.0,\n",
       "   'is_enabled': False,\n",
       "   'position_degs': 0.0,\n",
       "   'rms_error_arcsec': 0.0,\n",
       "   'servo_error_arcsec': 0.0},\n",
       "  'axis1': {'dist_to_target_arcsec': 0.0,\n",
       "   'is_enabled': False,\n",
       "   'position_degs': 0.0,\n",
       "   'rms_error_arcsec': 0.0,\n",
       "   'servo_error_arcsec': 0.0},\n",
       "  'model': {'filename': '',\n",
       "   'num_points_enabled': 0,\n",
       "   'num_points_total': 0,\n",
       "   'rms_error_arcsec': 0.0},\n",
       "  'geometry': 0},\n",
       " {'Reachable': True,\n",
       "  'AtHome': True,\n",
       "  'Moving': False,\n",
       "  'PositionSwitchStatus': 254,\n",
       "  'Position': 0.0,\n",
       "  'DeviceEncoder': {'Position': 0.0, 'Unit': 'STEPS'},\n",
       "  'Velocity': 0.0,\n",
       "  'AtLimit': False},\n",
       " {'Reachable': True,\n",
       "  'AtHome': True,\n",
       "  'Moving': False,\n",
       "  'PositionSwitchStatus': 254,\n",
       "  'Position': 0.0,\n",
       "  'DeviceEncoder': {'Position': 0.0, 'Unit': 'STEPS'},\n",
       "  'Velocity': 0.0,\n",
       "  'AtLimit': False,\n",
       "  'CurrentTime': 1657002705355701.0},\n",
       " {'state': 'IDLE'},\n",
       " {'east': {'temperature': 25,\n",
       "   'cooler': nan,\n",
       "   'binning': [4, 4],\n",
       "   'area': [1, 1600, 1, 1100]},\n",
       "  'west': {'temperature': 25,\n",
       "   'cooler': nan,\n",
       "   'binning': [4, 4],\n",
       "   'area': [1, 1600, 1, 1100]}},\n",
       " {'is_tracking': False,\n",
       "  'is_connected': False,\n",
       "  'is_slewing': False,\n",
       "  'is_enabled': False,\n",
       "  'ra_j2000_hours': 0.0,\n",
       "  'dec_j2000_degs': 0.0,\n",
       "  'ra_apparent_hours': 0.0,\n",
       "  'dec_apparent_degs': 0.0,\n",
       "  'altitude_degs': 0.0,\n",
       "  'azimuth_degs': 0.0,\n",
       "  'field_angle_rate_at_target_degs_per_sec': 0.0,\n",
       "  'field_angle_here_degs': 0.0,\n",
       "  'field_angle_at_target_degs': 0.0,\n",
       "  'axis0': {'dist_to_target_arcsec': 0.0,\n",
       "   'is_enabled': False,\n",
       "   'position_degs': 0.0,\n",
       "   'rms_error_arcsec': 0.0,\n",
       "   'servo_error_arcsec': 0.0},\n",
       "  'axis1': {'dist_to_target_arcsec': 0.0,\n",
       "   'is_enabled': False,\n",
       "   'position_degs': 0.0,\n",
       "   'rms_error_arcsec': 0.0,\n",
       "   'servo_error_arcsec': 0.0},\n",
       "  'model': {'filename': '',\n",
       "   'num_points_enabled': 0,\n",
       "   'num_points_total': 0,\n",
       "   'rms_error_arcsec': 0.0},\n",
       "  'geometry': 0},\n",
       " {'Reachable': True,\n",
       "  'AtHome': False,\n",
       "  'Moving': False,\n",
       "  'PositionSwitchStatus': 254,\n",
       "  'Position': 40000.0,\n",
       "  'DeviceEncoder': {'Position': 40000.0, 'Unit': 'STEPS'},\n",
       "  'Velocity': 0.0,\n",
       "  'AtLimit': False},\n",
       " {'Reachable': True,\n",
       "  'AtHome': True,\n",
       "  'Moving': False,\n",
       "  'PositionSwitchStatus': 248,\n",
       "  'Position': 0,\n",
       "  'DeviceEncoder': {'Position': 0, 'Unit': 'STEPS'},\n",
       "  'Velocity': 0.0},\n",
       " Exception(\"Failed routing message to consumer 'lvm.spec.ag'.\"),\n",
       " {'east': {'temperature': 25,\n",
       "   'cooler': nan,\n",
       "   'binning': [4, 4],\n",
       "   'area': [1, 1600, 1, 1100]}},\n",
       " {'is_tracking': False,\n",
       "  'is_connected': False,\n",
       "  'is_slewing': False,\n",
       "  'is_enabled': False,\n",
       "  'ra_j2000_hours': 0.0,\n",
       "  'dec_j2000_degs': 0.0,\n",
       "  'ra_apparent_hours': 0.0,\n",
       "  'dec_apparent_degs': 0.0,\n",
       "  'altitude_degs': 0.0,\n",
       "  'azimuth_degs': 0.0,\n",
       "  'field_angle_rate_at_target_degs_per_sec': 0.0,\n",
       "  'field_angle_here_degs': 0.0,\n",
       "  'field_angle_at_target_degs': 0.0,\n",
       "  'axis0': {'dist_to_target_arcsec': 0.0,\n",
       "   'is_enabled': False,\n",
       "   'position_degs': 0.0,\n",
       "   'rms_error_arcsec': 0.0,\n",
       "   'servo_error_arcsec': 0.0},\n",
       "  'axis1': {'dist_to_target_arcsec': 0.0,\n",
       "   'is_enabled': False,\n",
       "   'position_degs': 0.0,\n",
       "   'rms_error_arcsec': 0.0,\n",
       "   'servo_error_arcsec': 0.0},\n",
       "  'model': {'filename': '',\n",
       "   'num_points_enabled': 0,\n",
       "   'num_points_total': 0,\n",
       "   'rms_error_arcsec': 0.0},\n",
       "  'geometry': 0},\n",
       " {'status': {'nps_dummy_1': {'nps_dummy_1.port1': {'state': -1,\n",
       "     'descr': 'was 1',\n",
       "     'switch': 'nps_dummy_1',\n",
       "     'port': 1},\n",
       "    'skye.what.ever': {'state': -1,\n",
       "     'descr': 'whatever is connected to skye',\n",
       "     'switch': 'nps_dummy_1',\n",
       "     'port': 2},\n",
       "    'skyw.what.ever': {'state': -1,\n",
       "     'descr': 'Something @ skyw',\n",
       "     'switch': 'nps_dummy_1',\n",
       "     'port': 4}},\n",
       "   'skye.nps': {'skye.pwi': {'state': -1,\n",
       "     'descr': 'PlaneWavemount Skye',\n",
       "     'switch': 'skye.nps',\n",
       "     'port': 1}},\n",
       "   'nps_dummy_3': {'skyw.pwi': {'state': -1,\n",
       "     'descr': 'PlaneWavemount Skyw',\n",
       "     'switch': 'nps_dummy_3',\n",
       "     'port': 1}}}},\n",
       " {'text': 'Pong.'},\n",
       " {'text': 'Pong.'},\n",
       " Exception(\"Failed routing message to consumer 'lvmscp'.\")]"
      ]
     },
     "execution_count": 11,
     "metadata": {},
     "output_type": "execute_result"
    }
   ],
   "source": [
    "from lvmtipo.actors import lvm\n",
    "from cluplus.proxy import invoke\n",
    "\n",
    "await lvm.sci.start()\n",
    "await lvm.skyw.start()\n",
    "await lvm.skye.start()\n",
    "await lvm.spec.start()\n",
    "\n",
    "await lvm.nps.start()\n",
    "await lvm.ieb.start()\n",
    "await lvm.ecp.start()\n",
    "await lvm.scp.start()\n",
    "\n",
    "await invoke(lvm.sci.foc.status(), lvm.sci.km.status(), lvm.sci.ag.status(), lvm.sci.agc.status(), lvm.sci.pwi.status(),\n",
    "             lvm.skyw.foc.status(), lvm.skyw.km.status(), lvm.skyw.ag.status(), lvm.skyw.agc.status(), lvm.skyw.pwi.status(),\n",
    "             lvm.skye.foc.status(), lvm.skye.km.status(), lvm.skye.ag.status(), lvm.skye.agc.status(), lvm.skye.pwi.status(),\n",
    "             lvm.spec.foc.status(), lvm.spec.fibsel.status(), lvm.spec.ag.status(), lvm.spec.agc.status(), lvm.spec.pwi.status(),\n",
    "             lvm.nps.status(), lvm.ieb.ping(), lvm.ecp.ping(), lvm.scp.ping(),\n",
    "             return_exceptions=True)\n"
   ]
  },
  {
   "cell_type": "code",
   "execution_count": 12,
   "id": "e753bc6c-be85-4550-b53b-f959bb2f58c4",
   "metadata": {},
   "outputs": [
    {
     "data": {
      "text/plain": [
       "{'status': {'nps_dummy_1': {'nps_dummy_1.port1': {'state': -1,\n",
       "    'descr': 'was 1',\n",
       "    'switch': 'nps_dummy_1',\n",
       "    'port': 1},\n",
       "   'skye.what.ever': {'state': -1,\n",
       "    'descr': 'whatever is connected to skye',\n",
       "    'switch': 'nps_dummy_1',\n",
       "    'port': 2},\n",
       "   'skyw.what.ever': {'state': -1,\n",
       "    'descr': 'Something @ skyw',\n",
       "    'switch': 'nps_dummy_1',\n",
       "    'port': 4}},\n",
       "  'skye.nps': {'skye.pwi': {'state': -1,\n",
       "    'descr': 'PlaneWavemount Skye',\n",
       "    'switch': 'skye.nps',\n",
       "    'port': 1}},\n",
       "  'nps_dummy_3': {'skyw.pwi': {'state': -1,\n",
       "    'descr': 'PlaneWavemount Skyw',\n",
       "    'switch': 'nps_dummy_3',\n",
       "    'port': 1}}}}"
      ]
     },
     "execution_count": 12,
     "metadata": {},
     "output_type": "execute_result"
    }
   ],
   "source": [
    "await lvm.nps.status()"
   ]
  },
  {
   "cell_type": "code",
   "execution_count": 19,
   "id": "3933b945-5423-41c8-9395-6de63515f001",
   "metadata": {},
   "outputs": [
    {
     "name": "stderr",
     "output_type": "stream",
     "text": [
      "\u001b[1;33m[WARNING]: \u001b[0mactor lvmscraper currently not reachable.\n"
     ]
    },
    {
     "ename": "AttributeError",
     "evalue": "'Proxy' object has no attribute 'data'",
     "output_type": "error",
     "traceback": [
      "\u001b[0;31m---------------------------------------------------------------------------\u001b[0m",
      "\u001b[0;31mAttributeError\u001b[0m                            Traceback (most recent call last)",
      "Input \u001b[0;32mIn [19]\u001b[0m, in \u001b[0;36m<cell line: 2>\u001b[0;34m()\u001b[0m\n\u001b[1;32m      1\u001b[0m \u001b[38;5;28;01mawait\u001b[39;00m lvm\u001b[38;5;241m.\u001b[39mscraper\u001b[38;5;241m.\u001b[39mstart()\n\u001b[0;32m----> 2\u001b[0m \u001b[38;5;28;01mawait\u001b[39;00m lvm\u001b[38;5;241m.\u001b[39mscraper\u001b[38;5;241m.\u001b[39mdata()\n",
      "File \u001b[0;32m/opt/conda/lib/python3.10/site-packages/cluplus/proxy.py:86\u001b[0m, in \u001b[0;36mProxy.__getattr__\u001b[0;34m(self, attr)\u001b[0m\n\u001b[1;32m     83\u001b[0m         \u001b[38;5;28mself\u001b[39m\u001b[38;5;241m.\u001b[39mamqpc\u001b[38;5;241m.\u001b[39mlog\u001b[38;5;241m.\u001b[39mwarning(\u001b[38;5;124mf\u001b[39m\u001b[38;5;124m\"\u001b[39m\u001b[38;5;124mactor \u001b[39m\u001b[38;5;132;01m{\u001b[39;00m\u001b[38;5;28mself\u001b[39m\u001b[38;5;241m.\u001b[39mactor\u001b[38;5;132;01m}\u001b[39;00m\u001b[38;5;124m \u001b[39m\u001b[38;5;132;01m{\u001b[39;00mattr\u001b[38;5;132;01m}\u001b[39;00m\u001b[38;5;124m currently not reachable.\u001b[39m\u001b[38;5;124m\"\u001b[39m)\n\u001b[1;32m     84\u001b[0m         \u001b[38;5;28msetattr\u001b[39m(\u001b[38;5;28mself\u001b[39m, attr, partial(\u001b[38;5;28mself\u001b[39m\u001b[38;5;241m.\u001b[39mcall_command, attr))\n\u001b[0;32m---> 86\u001b[0m \u001b[38;5;28;01mreturn\u001b[39;00m \u001b[38;5;28;43mself\u001b[39;49m\u001b[38;5;241;43m.\u001b[39;49m\u001b[38;5;21;43m__getattribute__\u001b[39;49m\u001b[43m(\u001b[49m\u001b[43mattr\u001b[49m\u001b[43m)\u001b[49m\n",
      "\u001b[0;31mAttributeError\u001b[0m: 'Proxy' object has no attribute 'data'"
     ]
    }
   ],
   "source": [
    "await lvm.scraper.start()\n",
    "await lvm.scraper.data()\n"
   ]
  },
  {
   "cell_type": "code",
   "execution_count": null,
   "id": "0b3f9ba9-112d-4368-a065-2eb38679536a",
   "metadata": {},
   "outputs": [],
   "source": []
  }
 ],
 "metadata": {
  "kernelspec": {
   "display_name": "Python 3 (ipykernel)",
   "language": "python",
   "name": "python3"
  },
  "language_info": {
   "codemirror_mode": {
    "name": "ipython",
    "version": 3
   },
   "file_extension": ".py",
   "mimetype": "text/x-python",
   "name": "python",
   "nbconvert_exporter": "python",
   "pygments_lexer": "ipython3",
   "version": "3.10.5"
  }
 },
 "nbformat": 4,
 "nbformat_minor": 5
}
