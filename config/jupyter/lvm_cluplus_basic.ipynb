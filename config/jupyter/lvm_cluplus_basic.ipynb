{
 "cells": [
  {
   "cell_type": "code",
   "execution_count": 14,
   "id": "9643d008-245b-4ffb-90b2-757fe3b8082b",
   "metadata": {},
   "outputs": [
    {
     "name": "stdout",
     "output_type": "stream",
     "text": [
      "{'Reachable': True, 'AtHome': True, 'Moving': False, 'PositionSwitchStatus': 254, 'Position': 0.0, 'DeviceEncoder': {'Position': 0.0, 'Unit': 'STEPS'}, 'Velocity': 0.0, 'AtLimit': False}\n"
     ]
    }
   ],
   "source": [
    "from cluplus.proxy import Proxy\n",
    "\n",
    "foc_skye = await Proxy(\"lvm.skye.foc\").start()\n",
    "    \n",
    "print(await foc_skye.status())"
   ]
  },
  {
   "cell_type": "code",
   "execution_count": 15,
   "id": "57212dea-7a93-4c63-9a96-a59886f418a8",
   "metadata": {},
   "outputs": [
    {
     "name": "stdout",
     "output_type": "stream",
     "text": [
      "{'Reachable': True, 'AtHome': True, 'Moving': False, 'PositionSwitchStatus': 254, 'Position': 0.0, 'DeviceEncoder': {'Position': 0.0, 'Unit': 'STEPS'}, 'Velocity': 0.0, 'AtLimit': False}\n"
     ]
    }
   ],
   "source": [
    "from lvmtipo.actors import lvm\n",
    "\n",
    "await lvm.spec.foc.start()\n",
    "\n",
    "print(await lvm.spec.foc.status())"
   ]
  },
  {
   "cell_type": "code",
   "execution_count": 16,
   "id": "7578da99-4827-4d93-af9e-b6fd1977f084",
   "metadata": {},
   "outputs": [
    {
     "name": "stdout",
     "output_type": "stream",
     "text": [
      "reachable: True, position: 0.0\n"
     ]
    }
   ],
   "source": [
    "reachable, position = (await lvm.spec.foc.status()).flatten().unpack('Reachable', 'DeviceEncoder.Position')\n",
    "\n",
    "print(f\"reachable: {reachable}, position: {position}\")\n"
   ]
  },
  {
   "cell_type": "code",
   "execution_count": 17,
   "id": "56037111-6cd7-40aa-8072-0994dabdf4c6",
   "metadata": {},
   "outputs": [
    {
     "name": "stderr",
     "output_type": "stream",
     "text": [
      "\u001b[1;33m[WARNING]: \u001b[0mactor lvm.sci.ag currently not reachable.\n",
      "\u001b[1;33m[WARNING]: \u001b[0mactor lvm.skyw.pwi currently not reachable.\n",
      "\u001b[1;33m[WARNING]: \u001b[0mactor lvm.skyw.agcam currently not reachable.\n",
      "\u001b[1;33m[WARNING]: \u001b[0mactor lvm.skyw.ag currently not reachable.\n",
      "\u001b[1;33m[WARNING]: \u001b[0mactor lvm.skye.pwi currently not reachable.\n",
      "\u001b[1;33m[WARNING]: \u001b[0mactor lvm.skye.agcam currently not reachable.\n",
      "\u001b[1;33m[WARNING]: \u001b[0mactor lvm.skye.ag currently not reachable.\n",
      "\u001b[1;33m[WARNING]: \u001b[0mactor lvm.spec.pwi currently not reachable.\n",
      "\u001b[1;33m[WARNING]: \u001b[0mactor lvm.spec.agcam currently not reachable.\n",
      "\u001b[1;33m[WARNING]: \u001b[0mactor lvm.spec.ag currently not reachable.\n"
     ]
    },
    {
     "data": {
      "text/plain": [
       "[{'Reachable': True,\n",
       "  'AtHome': False,\n",
       "  'Moving': False,\n",
       "  'PositionSwitchStatus': 254,\n",
       "  'Position': -100.0,\n",
       "  'DeviceEncoder': {'Position': -10000.0, 'Unit': 'STEPS'},\n",
       "  'Velocity': 0.0,\n",
       "  'AtLimit': False},\n",
       " {'Reachable': True,\n",
       "  'AtHome': True,\n",
       "  'Moving': False,\n",
       "  'PositionSwitchStatus': 254,\n",
       "  'Position': 0.0,\n",
       "  'DeviceEncoder': {'Position': 0.0, 'Unit': 'STEPS'},\n",
       "  'Velocity': 0.0,\n",
       "  'AtLimit': False,\n",
       "  'CurrentTime': 1656448076918628.0},\n",
       " {'east': {'temperature': 25,\n",
       "   'cooler': nan,\n",
       "   'binning': [4, 4],\n",
       "   'area': [1, 1600, 1, 1100]},\n",
       "  'west': {'temperature': 25,\n",
       "   'cooler': nan,\n",
       "   'binning': [4, 4],\n",
       "   'area': [1, 1600, 1, 1100]}},\n",
       " {'is_tracking': True,\n",
       "  'is_connected': True,\n",
       "  'is_slewing': False,\n",
       "  'is_enabled': True,\n",
       "  'ra_j2000_hours': 9.84126406620632,\n",
       "  'dec_j2000_degs': -48.9632510446751,\n",
       "  'ra_apparent_hours': 9.85472462706279,\n",
       "  'dec_apparent_degs': -49.0702757278718,\n",
       "  'altitude_degs': 69.4048348085909,\n",
       "  'azimuth_degs': 191.370988011633,\n",
       "  'field_angle_rate_at_target_degs_per_sec': 0.0101810088852256,\n",
       "  'field_angle_here_degs': 15.2603963533256,\n",
       "  'field_angle_at_target_degs': 15.2603984660735,\n",
       "  'axis0': {'dist_to_target_arcsec': 0.0203101836794787,\n",
       "   'is_enabled': True,\n",
       "   'position_degs': 191.373926072936,\n",
       "   'rms_error_arcsec': 0.0201636658786578,\n",
       "   'servo_error_arcsec': 0.0},\n",
       "  'axis1': {'dist_to_target_arcsec': -0.00177740861372586,\n",
       "   'is_enabled': True,\n",
       "   'position_degs': 69.4045527524287,\n",
       "   'rms_error_arcsec': 0.00175680774197735,\n",
       "   'servo_error_arcsec': 0.0},\n",
       "  'model': {'filename': '',\n",
       "   'num_points_enabled': 0,\n",
       "   'num_points_total': 0,\n",
       "   'rms_error_arcsec': 0.0},\n",
       "  'geometry': 0},\n",
       " {'Reachable': True,\n",
       "  'AtHome': True,\n",
       "  'Moving': False,\n",
       "  'PositionSwitchStatus': 254,\n",
       "  'Position': 0.0,\n",
       "  'DeviceEncoder': {'Position': 0.0, 'Unit': 'STEPS'},\n",
       "  'Velocity': 0.0,\n",
       "  'AtLimit': False},\n",
       " {'Reachable': True,\n",
       "  'AtHome': True,\n",
       "  'Moving': False,\n",
       "  'PositionSwitchStatus': 254,\n",
       "  'Position': 0.0,\n",
       "  'DeviceEncoder': {'Position': 0.0, 'Unit': 'STEPS'},\n",
       "  'Velocity': 0.0,\n",
       "  'AtLimit': False,\n",
       "  'CurrentTime': 1656448077294171.0},\n",
       " Exception(\"Failed routing message to consumer 'lvm.skyw.agcam'.\"),\n",
       " Exception(\"Failed routing message to consumer 'lvm.skyw.pwi'.\"),\n",
       " {'Reachable': True,\n",
       "  'AtHome': True,\n",
       "  'Moving': False,\n",
       "  'PositionSwitchStatus': 254,\n",
       "  'Position': 0.0,\n",
       "  'DeviceEncoder': {'Position': 0.0, 'Unit': 'STEPS'},\n",
       "  'Velocity': 0.0,\n",
       "  'AtLimit': False},\n",
       " {'Reachable': True,\n",
       "  'AtHome': True,\n",
       "  'Moving': False,\n",
       "  'PositionSwitchStatus': 254,\n",
       "  'Position': 0.0,\n",
       "  'DeviceEncoder': {'Position': 0.0, 'Unit': 'STEPS'},\n",
       "  'Velocity': 0.0,\n",
       "  'AtLimit': False,\n",
       "  'CurrentTime': 1656448077378261.0},\n",
       " Exception(\"Failed routing message to consumer 'lvm.skye.agcam'.\"),\n",
       " Exception(\"Failed routing message to consumer 'lvm.skye.pwi'.\"),\n",
       " {'Reachable': True,\n",
       "  'AtHome': True,\n",
       "  'Moving': False,\n",
       "  'PositionSwitchStatus': 254,\n",
       "  'Position': 0.0,\n",
       "  'DeviceEncoder': {'Position': 0.0, 'Unit': 'STEPS'},\n",
       "  'Velocity': 0.0,\n",
       "  'AtLimit': False},\n",
       " {'Reachable': True,\n",
       "  'AtHome': True,\n",
       "  'Moving': False,\n",
       "  'PositionSwitchStatus': 248,\n",
       "  'Position': 0,\n",
       "  'DeviceEncoder': {'Position': 0, 'Unit': 'STEPS'},\n",
       "  'Velocity': 0.0},\n",
       " Exception(\"Failed routing message to consumer 'lvm.spec.agcam'.\"),\n",
       " Exception(\"Failed routing message to consumer 'lvm.spec.pwi'.\")]"
      ]
     },
     "execution_count": 17,
     "metadata": {},
     "output_type": "execute_result"
    }
   ],
   "source": [
    "from lvmtipo.actors import lvm\n",
    "from cluplus.proxy import invoke\n",
    "\n",
    "await lvm.sci.start()\n",
    "await lvm.skyw.start()\n",
    "await lvm.skye.start()\n",
    "await lvm.spec.start()\n",
    "\n",
    "await invoke(lvm.sci.foc.status(), lvm.sci.km.status(), lvm.sci.agc.status(), lvm.sci.pwi.status(),\n",
    "             lvm.skyw.foc.status(), lvm.skyw.km.status(), lvm.skyw.agc.status(), lvm.skyw.pwi.status(),\n",
    "             lvm.skye.foc.status(), lvm.skye.km.status(), lvm.skye.agc.status(), lvm.skye.pwi.status(),\n",
    "             lvm.spec.foc.status(), lvm.spec.fibsel.status(), lvm.spec.agc.status(), lvm.spec.pwi.status(),\n",
    "             return_exceptions=True)\n"
   ]
  },
  {
   "cell_type": "code",
   "execution_count": null,
   "id": "e753bc6c-be85-4550-b53b-f959bb2f58c4",
   "metadata": {},
   "outputs": [],
   "source": [
    "await lvm.spec.agc.status()"
   ]
  },
  {
   "cell_type": "code",
   "execution_count": null,
   "id": "40636993-528e-4e26-a720-c87e7a53b039",
   "metadata": {},
   "outputs": [],
   "source": []
  }
 ],
 "metadata": {
  "kernelspec": {
   "display_name": "Python 3 (ipykernel)",
   "language": "python",
   "name": "python3"
  },
  "language_info": {
   "codemirror_mode": {
    "name": "ipython",
    "version": 3
   },
   "file_extension": ".py",
   "mimetype": "text/x-python",
   "name": "python",
   "nbconvert_exporter": "python",
   "pygments_lexer": "ipython3",
   "version": "3.10.5"
  }
 },
 "nbformat": 4,
 "nbformat_minor": 5
}
