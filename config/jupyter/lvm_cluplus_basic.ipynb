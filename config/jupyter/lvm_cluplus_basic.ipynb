{
 "cells": [
  {
   "cell_type": "code",
   "execution_count": null,
   "id": "9643d008-245b-4ffb-90b2-757fe3b8082b",
   "metadata": {},
   "outputs": [],
   "source": [
    "from cluplus.proxy import Proxy, flatten, unpack\n",
    "\n",
    "foc_skye = await Proxy(\"lvm.skye.foc\").start()\n",
    "    \n",
    "print(await foc_skye.status())"
   ]
  },
  {
   "cell_type": "code",
   "execution_count": null,
   "id": "57212dea-7a93-4c63-9a96-a59886f418a8",
   "metadata": {},
   "outputs": [],
   "source": [
    "from lvmtipo.actors import lvm\n",
    "\n",
    "await lvm.spec.foc.start()\n",
    "\n",
    "print(await lvm.spec.foc.status())"
   ]
  },
  {
   "cell_type": "code",
   "execution_count": null,
   "id": "7578da99-4827-4d93-af9e-b6fd1977f084",
   "metadata": {},
   "outputs": [],
   "source": [
    "reachable, position = (await lvm.spec.foc.status()).flatten().unpack('Reachable', 'DeviceEncoder.Position')\n",
    "\n",
    "print(f\"reachable: {reachable}, position: {position}\")\n"
   ]
  },
  {
   "cell_type": "code",
   "execution_count": null,
   "id": "56037111-6cd7-40aa-8072-0994dabdf4c6",
   "metadata": {},
   "outputs": [],
   "source": [
    "from lvmtipo.actors import lvm\n",
    "from cluplus.proxy import invoke\n",
    "\n",
    "await lvm.sci.start()\n",
    "await lvm.skyw.start()\n",
    "await lvm.skye.start()\n",
    "await lvm.spec.start()\n",
    "\n",
    "await invoke(lvm.sci.foc.status(), lvm.sci.km.status(), lvm.sci.agc.status(), lvm.sci.pwi.status(),\n",
    "             lvm.skyw.foc.status(), lvm.skyw.km.status(), lvm.skyw.agc.status(), lvm.skyw.pwi.status(),\n",
    "             lvm.skye.foc.status(), lvm.skye.km.status(), lvm.skye.agc.status(), lvm.skye.pwi.status(),\n",
    "             lvm.spec.foc.status(), lvm.spec.fibsel.status(), lvm.spec.agc.status(), lvm.spec.pwi.status(),\n",
    "             return_exceptions=True)\n"
   ]
  },
  {
   "cell_type": "code",
   "execution_count": null,
   "id": "e753bc6c-be85-4550-b53b-f959bb2f58c4",
   "metadata": {},
   "outputs": [],
   "source": [
    "await lvm.spec.agc.status()"
   ]
  },
  {
   "cell_type": "code",
   "execution_count": null,
   "id": "40636993-528e-4e26-a720-c87e7a53b039",
   "metadata": {},
   "outputs": [],
   "source": []
  }
 ],
 "metadata": {
  "kernelspec": {
   "display_name": "Python 3 (ipykernel)",
   "language": "python",
   "name": "python3"
  },
  "language_info": {
   "codemirror_mode": {
    "name": "ipython",
    "version": 3
   },
   "file_extension": ".py",
   "mimetype": "text/x-python",
   "name": "python",
   "nbconvert_exporter": "python",
   "pygments_lexer": "ipython3",
   "version": "3.10.5"
  }
 },
 "nbformat": 4,
 "nbformat_minor": 5
}
