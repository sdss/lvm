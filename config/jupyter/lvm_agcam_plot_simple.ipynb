{
 "cells": [
  {
   "cell_type": "code",
   "execution_count": null,
   "id": "0c3bdc10-8066-4f1f-8e28-ec96d90c58d3",
   "metadata": {},
   "outputs": [],
   "source": [
    "from lvmtipo.actors import lvm\n",
    "\n",
    "await lvm.sci.agc.start()"
   ]
  },
  {
   "cell_type": "code",
   "execution_count": null,
   "id": "970bc80d-ded8-404b-9d96-8dbd1a15dff1",
   "metadata": {},
   "outputs": [],
   "source": [
    "%matplotlib inline\n",
    "from plotimg import plot_images, fits\n",
    "\n",
    "for e in [1.,5.]:\n",
    "    ef, wf = (await lvm.sci.agc.expose(e)).flatten().unpack(\"east.filename\", \"west.filename\") \n",
    "    print(f\"east: {ef}, west: {wf}\")\n",
    "    plot_images(fits.getdata(ef, ext=0), fits.getdata(wf, ext=0))"
   ]
  },
  {
   "cell_type": "code",
   "execution_count": null,
   "id": "ed056071-d5c7-4ca3-84c4-9e3684ba7b11",
   "metadata": {},
   "outputs": [],
   "source": [
    "await lvm.sci.foc.start()"
   ]
  },
  {
   "cell_type": "code",
   "execution_count": null,
   "id": "698fb3ca-f626-429f-b232-98ad578139cf",
   "metadata": {},
   "outputs": [],
   "source": [
    "%matplotlib inline\n",
    "\n",
    "for p in [600, 300, 100, 0, -100, -300]:\n",
    "    await lvm.sci.foc.moveAbsolute(p)\n",
    "    ef, wf = (await lvm.sci.agc.expose(1)).flatten().unpack(\"east.filename\", \"west.filename\") \n",
    "    print(f\"east: {ef}, west: {wf}\")\n",
    "    plot_images(fits.getdata(ef, ext=0), fits.getdata(wf, ext=0))\n",
    "\n",
    "await lvm.sci.foc.moveToHome()"
   ]
  }
 ],
 "metadata": {
  "kernelspec": {
   "display_name": "Python 3 (ipykernel)",
   "language": "python",
   "name": "python3"
  },
  "language_info": {
   "codemirror_mode": {
    "name": "ipython",
    "version": 3
   },
   "file_extension": ".py",
   "mimetype": "text/x-python",
   "name": "python",
   "nbconvert_exporter": "python",
   "pygments_lexer": "ipython3",
   "version": "3.10.5"
  }
 },
 "nbformat": 4,
 "nbformat_minor": 5
}
