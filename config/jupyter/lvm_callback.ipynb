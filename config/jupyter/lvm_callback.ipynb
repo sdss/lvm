{
 "cells": [
  {
   "cell_type": "code",
   "execution_count": 23,
   "id": "fba13f87-41ae-4dd9-af74-6311ed9b01db",
   "metadata": {},
   "outputs": [
    {
     "name": "stderr",
     "output_type": "stream",
     "text": [
      "\u001b[1;33m[WARNING]: \u001b[0mactor lvm.sci.ag currently not reachable.\n"
     ]
    }
   ],
   "source": [
    "from lvmtipo.actors import lvm\n",
    "\n",
    "sci = await lvm.sci.start()"
   ]
  },
  {
   "cell_type": "code",
   "execution_count": 24,
   "id": "066a15b3-03b5-474d-9827-31e743d8d5ca",
   "metadata": {},
   "outputs": [],
   "source": [
    "from logging import DEBUG, INFO\n",
    "from sdsstools import get_logger\n",
    "logger = get_logger(\"test\")\n",
    "\n",
    "logger.sh.setLevel(INFO)\n"
   ]
  },
  {
   "cell_type": "code",
   "execution_count": 26,
   "id": "6e40a731-0b85-40e1-a307-2f538d86a756",
   "metadata": {},
   "outputs": [
    {
     "name": "stderr",
     "output_type": "stream",
     "text": [
      "\u001b[0;35m[DEBUG]: \u001b[0mb'{}'\n",
      "\u001b[0;35m[DEBUG]: \u001b[0mb'{\"east\": {\"state\": \"integrating\", \"image_type\": \"object\", \"remaining_time\": 1.0, \"exposure_time\": 1.0, \"current_stack\": 1, \"n_stack\": 1}}'\n",
      "\u001b[0;35m[DEBUG]: \u001b[0mb'{\"west\": {\"state\": \"integrating\", \"image_type\": \"object\", \"remaining_time\": 1.0, \"exposure_time\": 1.0, \"current_stack\": 1, \"n_stack\": 1}}'\n",
      "\u001b[0;35m[DEBUG]: \u001b[0mb'{\"east\": {\"state\": \"reading\", \"image_type\": \"object\", \"remaining_time\": 0.0, \"exposure_time\": 1.0, \"current_stack\": 1, \"n_stack\": 1}}'\n",
      "\u001b[0;35m[DEBUG]: \u001b[0mb'{\"east\": {\"state\": \"done\", \"image_type\": \"object\", \"remaining_time\": 0.0, \"exposure_time\": 1.0, \"current_stack\": 1, \"n_stack\": 1}}'\n",
      "\u001b[0;35m[DEBUG]: \u001b[0mb'{\"east\": {\"state\": \"post_processing\", \"image_type\": \"object\"}}'\n",
      "\u001b[0;35m[DEBUG]: \u001b[0mb'{\"east\": {\"state\": \"written\", \"filename\": \"/data/lvm/sci/agcam/east/20220628/lvm.sci.agcam.east_00000087.fits\"}}'\n",
      "\u001b[0;35m[DEBUG]: \u001b[0mb'{\"west\": {\"state\": \"reading\", \"image_type\": \"object\", \"remaining_time\": 0.0, \"exposure_time\": 1.0, \"current_stack\": 1, \"n_stack\": 1}}'\n",
      "\u001b[0;35m[DEBUG]: \u001b[0mb'{\"west\": {\"state\": \"done\", \"image_type\": \"object\", \"remaining_time\": 0.0, \"exposure_time\": 1.0, \"current_stack\": 1, \"n_stack\": 1}}'\n",
      "\u001b[0;35m[DEBUG]: \u001b[0mb'{\"west\": {\"state\": \"post_processing\", \"image_type\": \"object\"}}'\n",
      "\u001b[0;35m[DEBUG]: \u001b[0mb'{\"west\": {\"state\": \"written\", \"filename\": \"/data/lvm/sci/agcam/west/20220628/lvm.sci.agcam.west_00000087.fits\"}}'\n",
      "\u001b[0;35m[DEBUG]: \u001b[0mb'{\"east\": {\"state\": \"idle\", \"filename\": \"/data/lvm/sci/agcam/east/20220628/lvm.sci.agcam.east_00000087.fits\"}, \"west\": {\"state\": \"idle\", \"filename\": \"/data/lvm/sci/agcam/west/20220628/lvm.sci.agcam.west_00000087.fits\"}}'\n",
      "\u001b[0;34m[INFO]: \u001b[0m{'east': {'state': 'idle', 'filename': '/data/lvm/sci/agcam/east/20220628/lvm.sci.agcam.east_00000087.fits'}, 'west': {'state': 'idle', 'filename': '/data/lvm/sci/agcam/west/20220628/lvm.sci.agcam.west_00000087.fits'}}\n"
     ]
    }
   ],
   "source": [
    "from logging import DEBUG, INFO\n",
    "\n",
    "logger.sh.setLevel(DEBUG)\n",
    "\n",
    "def callback(reply):\n",
    "    logger.debug(f\"{reply.message.body}\")\n",
    "\n",
    "rc = await sci.agc.expose(1, callback=callback)\n",
    "logger.info(str(rc))"
   ]
  },
  {
   "cell_type": "code",
   "execution_count": null,
   "id": "a46bb8da-7286-433a-8deb-7f62b78dd94e",
   "metadata": {},
   "outputs": [],
   "source": []
  }
 ],
 "metadata": {
  "kernelspec": {
   "display_name": "Python 3 (ipykernel)",
   "language": "python",
   "name": "python3"
  },
  "language_info": {
   "codemirror_mode": {
    "name": "ipython",
    "version": 3
   },
   "file_extension": ".py",
   "mimetype": "text/x-python",
   "name": "python",
   "nbconvert_exporter": "python",
   "pygments_lexer": "ipython3",
   "version": "3.10.5"
  }
 },
 "nbformat": 4,
 "nbformat_minor": 5
}
